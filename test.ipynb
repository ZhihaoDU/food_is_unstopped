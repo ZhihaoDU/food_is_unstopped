{
 "cells": [
  {
   "cell_type": "code",
   "execution_count": 2,
   "metadata": {
    "collapsed": true
   },
   "outputs": [],
   "source": [
    "from data_loader import *\n",
    "import os,sys\n",
    "from torchvision import transforms\n",
    "import torch, torch.utils\n",
    "import numpy as np\n",
    "from torch.utils.data import DataLoader,Dataset\n",
    "import random"
   ]
  },
  {
   "cell_type": "code",
   "execution_count": 3,
   "metadata": {},
   "outputs": [],
   "source": [
    "root='../food-101/'\n",
    "file_path = os.path.join(root,'meta/train.txt')\n",
    "with open(file_path, 'r') as fp:\n",
    "    file_list = [line.rstrip() for line in fp]"
   ]
  },
  {
   "cell_type": "code",
   "execution_count": 10,
   "metadata": {},
   "outputs": [],
   "source": [
    "mp_class_name2id = {}\n",
    "with open(root+'meta/classes.txt') as fp:\n",
    "    for ii, line in enumerate(fp):\n",
    "        mp_class_name2id[line.rstrip()] = ii"
   ]
  },
  {
   "cell_type": "code",
   "execution_count": 11,
   "metadata": {},
   "outputs": [
    {
     "data": {
      "text/plain": [
       "{'apple_pie': 0,\n 'baby_back_ribs': 1,\n 'baklava': 2,\n 'beef_carpaccio': 3,\n 'beef_tartare': 4,\n 'beet_salad': 5,\n 'beignets': 6,\n 'bibimbap': 7,\n 'bread_pudding': 8,\n 'breakfast_burrito': 9,\n 'bruschetta': 10,\n 'caesar_salad': 11,\n 'cannoli': 12,\n 'caprese_salad': 13,\n 'carrot_cake': 14,\n 'ceviche': 15,\n 'cheese_plate': 17,\n 'cheesecake': 16,\n 'chicken_curry': 18,\n 'chicken_quesadilla': 19,\n 'chicken_wings': 20,\n 'chocolate_cake': 21,\n 'chocolate_mousse': 22,\n 'churros': 23,\n 'clam_chowder': 24,\n 'club_sandwich': 25,\n 'crab_cakes': 26,\n 'creme_brulee': 27,\n 'croque_madame': 28,\n 'cup_cakes': 29,\n 'deviled_eggs': 30,\n 'donuts': 31,\n 'dumplings': 32,\n 'edamame': 33,\n 'eggs_benedict': 34,\n 'escargots': 35,\n 'falafel': 36,\n 'filet_mignon': 37,\n 'fish_and_chips': 38,\n 'foie_gras': 39,\n 'french_fries': 40,\n 'french_onion_soup': 41,\n 'french_toast': 42,\n 'fried_calamari': 43,\n 'fried_rice': 44,\n 'frozen_yogurt': 45,\n 'garlic_bread': 46,\n 'gnocchi': 47,\n 'greek_salad': 48,\n 'grilled_cheese_sandwich': 49,\n 'grilled_salmon': 50,\n 'guacamole': 51,\n 'gyoza': 52,\n 'hamburger': 53,\n 'hot_and_sour_soup': 54,\n 'hot_dog': 55,\n 'huevos_rancheros': 56,\n 'hummus': 57,\n 'ice_cream': 58,\n 'lasagna': 59,\n 'lobster_bisque': 60,\n 'lobster_roll_sandwich': 61,\n 'macaroni_and_cheese': 62,\n 'macarons': 63,\n 'miso_soup': 64,\n 'mussels': 65,\n 'nachos': 66,\n 'omelette': 67,\n 'onion_rings': 68,\n 'oysters': 69,\n 'pad_thai': 70,\n 'paella': 71,\n 'pancakes': 72,\n 'panna_cotta': 73,\n 'peking_duck': 74,\n 'pho': 75,\n 'pizza': 76,\n 'pork_chop': 77,\n 'poutine': 78,\n 'prime_rib': 79,\n 'pulled_pork_sandwich': 80,\n 'ramen': 81,\n 'ravioli': 82,\n 'red_velvet_cake': 83,\n 'risotto': 84,\n 'samosa': 85,\n 'sashimi': 86,\n 'scallops': 87,\n 'seaweed_salad': 88,\n 'shrimp_and_grits': 89,\n 'spaghetti_bolognese': 90,\n 'spaghetti_carbonara': 91,\n 'spring_rolls': 92,\n 'steak': 93,\n 'strawberry_shortcake': 94,\n 'sushi': 95,\n 'tacos': 96,\n 'takoyaki': 97,\n 'tiramisu': 98,\n 'tuna_tartare': 99,\n 'waffles': 100}"
      ]
     },
     "execution_count": 11,
     "metadata": {},
     "output_type": "execute_result"
    }
   ],
   "source": [
    "mp_class_name2id"
   ]
  },
  {
   "cell_type": "code",
   "execution_count": 14,
   "metadata": {},
   "outputs": [],
   "source": [
    "num_correct = torch.sum(torch.ones(5))"
   ]
  },
  {
   "cell_type": "code",
   "execution_count": 16,
   "metadata": {},
   "outputs": [
    {
     "data": {
      "text/plain": [
       "array(5., dtype=float32)"
      ]
     },
     "execution_count": 16,
     "metadata": {},
     "output_type": "execute_result"
    }
   ],
   "source": [
    "num_correct.numpy()"
   ]
  },
  {
   "cell_type": "code",
   "execution_count": 18,
   "metadata": {},
   "outputs": [
    {
     "name": "stdout",
     "output_type": "stream",
     "text": [
      "5.0\n"
     ]
    }
   ],
   "source": [
    "print(num_correct.numpy())"
   ]
  },
  {
   "cell_type": "code",
   "execution_count": null,
   "metadata": {},
   "outputs": [],
   "source": []
  }
 ],
 "metadata": {
  "kernelspec": {
   "display_name": "Python 2",
   "language": "python",
   "name": "python2"
  },
  "language_info": {
   "codemirror_mode": {
    "name": "ipython",
    "version": 2
   },
   "file_extension": ".py",
   "mimetype": "text/x-python",
   "name": "python",
   "nbconvert_exporter": "python",
   "pygments_lexer": "ipython2",
   "version": "2.7.6"
  }
 },
 "nbformat": 4,
 "nbformat_minor": 0
}
